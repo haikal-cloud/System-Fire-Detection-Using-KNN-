{
 "cells": [
  {
   "cell_type": "code",
   "execution_count": 25,
   "id": "855ba827",
   "metadata": {
    "scrolled": false
   },
   "outputs": [
    {
     "data": {
      "text/html": [
       "<div>\n",
       "<style scoped>\n",
       "    .dataframe tbody tr th:only-of-type {\n",
       "        vertical-align: middle;\n",
       "    }\n",
       "\n",
       "    .dataframe tbody tr th {\n",
       "        vertical-align: top;\n",
       "    }\n",
       "\n",
       "    .dataframe thead th {\n",
       "        text-align: right;\n",
       "    }\n",
       "</style>\n",
       "<table border=\"1\" class=\"dataframe\">\n",
       "  <thead>\n",
       "    <tr style=\"text-align: right;\">\n",
       "      <th></th>\n",
       "      <th>GasAp</th>\n",
       "      <th>Suhu</th>\n",
       "      <th>KR</th>\n",
       "    </tr>\n",
       "  </thead>\n",
       "  <tbody>\n",
       "    <tr>\n",
       "      <th>0</th>\n",
       "      <td>234</td>\n",
       "      <td>28</td>\n",
       "      <td>Kondisi Aman</td>\n",
       "    </tr>\n",
       "    <tr>\n",
       "      <th>1</th>\n",
       "      <td>236</td>\n",
       "      <td>27</td>\n",
       "      <td>Kondisi Aman</td>\n",
       "    </tr>\n",
       "    <tr>\n",
       "      <th>2</th>\n",
       "      <td>290</td>\n",
       "      <td>28</td>\n",
       "      <td>Kondisi Aman</td>\n",
       "    </tr>\n",
       "    <tr>\n",
       "      <th>3</th>\n",
       "      <td>300</td>\n",
       "      <td>29</td>\n",
       "      <td>Kondisi Aman</td>\n",
       "    </tr>\n",
       "    <tr>\n",
       "      <th>4</th>\n",
       "      <td>450</td>\n",
       "      <td>30</td>\n",
       "      <td>Berpotensi Api</td>\n",
       "    </tr>\n",
       "    <tr>\n",
       "      <th>5</th>\n",
       "      <td>470</td>\n",
       "      <td>31</td>\n",
       "      <td>Berpotensi Api</td>\n",
       "    </tr>\n",
       "    <tr>\n",
       "      <th>6</th>\n",
       "      <td>570</td>\n",
       "      <td>30</td>\n",
       "      <td>Kebakaran</td>\n",
       "    </tr>\n",
       "    <tr>\n",
       "      <th>7</th>\n",
       "      <td>580</td>\n",
       "      <td>32</td>\n",
       "      <td>Kebakaran</td>\n",
       "    </tr>\n",
       "    <tr>\n",
       "      <th>8</th>\n",
       "      <td>600</td>\n",
       "      <td>31</td>\n",
       "      <td>Kebakaran</td>\n",
       "    </tr>\n",
       "    <tr>\n",
       "      <th>9</th>\n",
       "      <td>800</td>\n",
       "      <td>30</td>\n",
       "      <td>Kebakaran</td>\n",
       "    </tr>\n",
       "    <tr>\n",
       "      <th>10</th>\n",
       "      <td>900</td>\n",
       "      <td>35</td>\n",
       "      <td>Kebakaran</td>\n",
       "    </tr>\n",
       "  </tbody>\n",
       "</table>\n",
       "</div>"
      ],
      "text/plain": [
       "    GasAp  Suhu              KR\n",
       "0     234    28    Kondisi Aman\n",
       "1     236    27    Kondisi Aman\n",
       "2     290    28    Kondisi Aman\n",
       "3     300    29    Kondisi Aman\n",
       "4     450    30  Berpotensi Api\n",
       "5     470    31  Berpotensi Api\n",
       "6     570    30       Kebakaran\n",
       "7     580    32       Kebakaran\n",
       "8     600    31       Kebakaran\n",
       "9     800    30       Kebakaran\n",
       "10    900    35       Kebakaran"
      ]
     },
     "execution_count": 25,
     "metadata": {},
     "output_type": "execute_result"
    }
   ],
   "source": [
    "#Sample DatasetS\n",
    "import pandas as pd\n",
    "\n",
    "sensor = {\n",
    "    'GasAp' : [234, 236, 290, 300, 450, 470, 570, 580, 600, 800, 900],\n",
    "    'Suhu'  : [28, 27, 28, 29, 30, 31, 30, 32, 31, 30, 35],\n",
    "    'KR'    : [\n",
    "        'Kondisi Aman', 'Kondisi Aman', 'Kondisi Aman', 'Kondisi Aman', 'Berpotensi Api', 'Berpotensi Api', 'Kebakaran', 'Kebakaran','Kebakaran','Kebakaran','Kebakaran'\n",
    "    ]\n",
    "}\n",
    "\n",
    "sensor_df = pd.DataFrame(sensor)\n",
    "sensor_df"
   ]
  },
  {
   "cell_type": "code",
   "execution_count": 2,
   "id": "f133aa75",
   "metadata": {},
   "outputs": [
    {
     "data": {
      "text/plain": [
       "<function matplotlib.pyplot.show(close=None, block=None)>"
      ]
     },
     "execution_count": 2,
     "metadata": {},
     "output_type": "execute_result"
    },
    {
     "data": {
      "image/png": "[encoded data removed]",
      "text/plain": [
       "<Figure size 432x288 with 1 Axes>"
      ]
     },
     "metadata": {
      "needs_background": "light"
     },
     "output_type": "display_data"
    }
   ],
   "source": [
    "#Visualisasi Data\n",
    "import matplotlib.pyplot as plt\n",
    "\n",
    "fig, ax = plt.subplots()\n",
    "for KT, d in sensor_df.groupby('KR'):\n",
    "    ax.scatter(d['GasAp'], d['Suhu'], label=KT)\n",
    "    \n",
    "plt.legend(loc='upper left')\n",
    "plt.title('Sebaran Data GasAp, Suhu, dan Kondisi Ruangan')\n",
    "plt.xlabel('GasAp (PPM)')\n",
    "plt.ylabel('Suhu(Celcius)' )\n",
    "plt.grid(True)\n",
    "plt.show"
   ]
  },
  {
   "cell_type": "code",
   "execution_count": 5,
   "id": "70b05356",
   "metadata": {},
   "outputs": [
    {
     "name": "stdout",
     "output_type": "stream",
     "text": [
      "X_train:\n",
      "[[234  28]\n",
      " [236  27]\n",
      " [290  28]\n",
      " [300  29]\n",
      " [450  30]\n",
      " [470  31]\n",
      " [570  30]\n",
      " [580  32]\n",
      " [600  31]\n",
      " [800  30]\n",
      " [900  35]]\n",
      "\n",
      "Y_train: ['Kondisi Aman' 'Kondisi Aman' 'Kondisi Aman' 'Kondisi Aman'\n",
      " 'Berpotensi Api' 'Berpotensi Api' 'Kebakaran' 'Kebakaran' 'Kebakaran'\n",
      " 'Kebakaran' 'Kebakaran']\n"
     ]
    }
   ],
   "source": [
    "#Klasifikasi dengan KNN\n",
    "#Preprocessing Dataset\n",
    "\n",
    "import numpy as np\n",
    "\n",
    "X_train = np.array(sensor_df[['GasAp', 'Suhu']])\n",
    "Y_train = np.array(sensor_df['KR'])\n",
    "\n",
    "print(f'X_train:\\n{X_train}\\n')\n",
    "print(f'Y_train: {Y_train}')"
   ]
  },
  {
   "cell_type": "code",
   "execution_count": 6,
   "id": "18a48079",
   "metadata": {},
   "outputs": [
    {
     "name": "stdout",
     "output_type": "stream",
     "text": [
      "Y_train:\n",
      "[2 2 2 2 0 0 1 1 1 1 1]\n"
     ]
    }
   ],
   "source": [
    "from sklearn.preprocessing import LabelEncoder\n",
    "\n",
    "lb = LabelEncoder()\n",
    "Y_train = lb.fit_transform(Y_train)\n",
    "print(f'Y_train:\\n{Y_train}')"
   ]
  },
  {
   "cell_type": "code",
   "execution_count": 7,
   "id": "a90b90b9",
   "metadata": {},
   "outputs": [
    {
     "name": "stdout",
     "output_type": "stream",
     "text": [
      "Y_train: [2 2 2 2 0 0 1 1 1 1 1]\n"
     ]
    }
   ],
   "source": [
    "Y_train = Y_train.flatten()\n",
    "print(f'Y_train: {Y_train}')"
   ]
  },
  {
   "cell_type": "code",
   "execution_count": 8,
   "id": "99f75c45",
   "metadata": {},
   "outputs": [
    {
     "data": {
      "text/plain": [
       "KNeighborsClassifier(n_neighbors=3)"
      ]
     },
     "execution_count": 8,
     "metadata": {},
     "output_type": "execute_result"
    }
   ],
   "source": [
    "#Training KNN Classification Model\n",
    "from sklearn.neighbors import KNeighborsClassifier\n",
    "\n",
    "K = 3\n",
    "model = KNeighborsClassifier(n_neighbors=K)\n",
    "model.fit(X_train, Y_train)"
   ]
  },
  {
   "cell_type": "code",
   "execution_count": 9,
   "id": "eeb01e6b",
   "metadata": {},
   "outputs": [
    {
     "data": {
      "text/plain": [
       "array([[469,  30]])"
      ]
     },
     "execution_count": 9,
     "metadata": {},
     "output_type": "execute_result"
    }
   ],
   "source": [
    "#Prediksi Kondisi Tempat\n",
    "GasAp = 469\n",
    "Suhu = 30\n",
    "X_new = np.array([GasAp, Suhu]).reshape(1, -1)\n",
    "X_new"
   ]
  },
  {
   "cell_type": "code",
   "execution_count": 10,
   "id": "fa2a8f7e",
   "metadata": {},
   "outputs": [
    {
     "data": {
      "text/plain": [
       "array([0])"
      ]
     },
     "execution_count": 10,
     "metadata": {},
     "output_type": "execute_result"
    }
   ],
   "source": [
    "Y_new = model.predict(X_new)\n",
    "Y_new"
   ]
  },
  {
   "cell_type": "code",
   "execution_count": 32,
   "id": "76eb805a",
   "metadata": {},
   "outputs": [
    {
     "data": {
      "text/plain": [
       "array(['Berpotensi Api'], dtype=object)"
      ]
     },
     "execution_count": 32,
     "metadata": {},
     "output_type": "execute_result"
    }
   ],
   "source": [
    "lb.inverse_transform(Y_new)"
   ]
  },
  {
   "cell_type": "code",
   "execution_count": 11,
   "id": "26d4b710",
   "metadata": {},
   "outputs": [
    {
     "data": {
      "text/plain": [
       "<function matplotlib.pyplot.show(close=None, block=None)>"
      ]
     },
     "execution_count": 11,
     "metadata": {},
     "output_type": "execute_result"
    },
    {
     "data": {
      "image/png": "[encoded data removed]",
      "text/plain": [
       "<Figure size 432x288 with 1 Axes>"
      ]
     },
     "metadata": {
      "needs_background": "light"
     },
     "output_type": "display_data"
    }
   ],
   "source": [
    "fig, ax = plt.subplots()\n",
    "for KR, d in sensor_df.groupby('KR'):\n",
    "    ax.scatter(d['GasAp'], d['Suhu'], label=KR)\n",
    "\n",
    "plt.scatter(GasAp,\n",
    "           Suhu,\n",
    "           marker='s',\n",
    "           color='red',\n",
    "           label='misterius')\n",
    "    \n",
    "plt.legend(loc='upper left')\n",
    "plt.title('Sebaran Data GasAp, Suhu, dan Kondisi Ruangan')\n",
    "plt.xlabel('GasAp (PPM)')\n",
    "plt.ylabel('Suhu(Celcius)' )\n",
    "plt.grid(True)\n",
    "plt.show"
   ]
  },
  {
   "cell_type": "code",
   "execution_count": 12,
   "id": "43acef76",
   "metadata": {},
   "outputs": [
    {
     "data": {
      "text/plain": [
       "array([469,  30])"
      ]
     },
     "execution_count": 12,
     "metadata": {},
     "output_type": "execute_result"
    }
   ],
   "source": [
    "#Kalkulasi Distance (Euclidean Distance)\n",
    "misterius = np.array([GasAp, Suhu])\n",
    "misterius"
   ]
  },
  {
   "cell_type": "code",
   "execution_count": 13,
   "id": "b52a3aed",
   "metadata": {},
   "outputs": [
    {
     "data": {
      "text/plain": [
       "array([[234,  28],\n",
       "       [236,  27],\n",
       "       [290,  28],\n",
       "       [300,  29],\n",
       "       [450,  30],\n",
       "       [470,  31],\n",
       "       [570,  30],\n",
       "       [580,  32],\n",
       "       [600,  31],\n",
       "       [800,  30],\n",
       "       [900,  35]], dtype=int64)"
      ]
     },
     "execution_count": 13,
     "metadata": {},
     "output_type": "execute_result"
    }
   ],
   "source": [
    "X_train"
   ]
  },
  {
   "cell_type": "code",
   "execution_count": 17,
   "id": "a0ed972a",
   "metadata": {},
   "outputs": [
    {
     "data": {
      "text/plain": [
       "[235.00851048419503,\n",
       " 233.01931250435015,\n",
       " 179.0111728356641,\n",
       " 169.00295855398508,\n",
       " 19.0,\n",
       " 1.4142135623730951,\n",
       " 101.0,\n",
       " 111.01801655587259,\n",
       " 131.00381673829202,\n",
       " 331.0,\n",
       " 431.0290013444571]"
      ]
     },
     "execution_count": 17,
     "metadata": {},
     "output_type": "execute_result"
    }
   ],
   "source": [
    "from scipy.spatial.distance import euclidean\n",
    "\n",
    "data_jarak = [euclidean(misterius, d) for d in X_train]\n",
    "data_jarak"
   ]
  },
  {
   "cell_type": "code",
   "execution_count": 18,
   "id": "002597a6",
   "metadata": {},
   "outputs": [
    {
     "data": {
      "text/html": [
       "<div>\n",
       "<style scoped>\n",
       "    .dataframe tbody tr th:only-of-type {\n",
       "        vertical-align: middle;\n",
       "    }\n",
       "\n",
       "    .dataframe tbody tr th {\n",
       "        vertical-align: top;\n",
       "    }\n",
       "\n",
       "    .dataframe thead th {\n",
       "        text-align: right;\n",
       "    }\n",
       "</style>\n",
       "<table border=\"1\" class=\"dataframe\">\n",
       "  <thead>\n",
       "    <tr style=\"text-align: right;\">\n",
       "      <th></th>\n",
       "      <th>GasAp</th>\n",
       "      <th>Suhu</th>\n",
       "      <th>KR</th>\n",
       "      <th>jarak</th>\n",
       "    </tr>\n",
       "  </thead>\n",
       "  <tbody>\n",
       "    <tr>\n",
       "      <th>5</th>\n",
       "      <td>470</td>\n",
       "      <td>31</td>\n",
       "      <td>Berpotensi Api</td>\n",
       "      <td>1.414214</td>\n",
       "    </tr>\n",
       "    <tr>\n",
       "      <th>4</th>\n",
       "      <td>450</td>\n",
       "      <td>30</td>\n",
       "      <td>Berpotensi Api</td>\n",
       "      <td>19.000000</td>\n",
       "    </tr>\n",
       "    <tr>\n",
       "      <th>6</th>\n",
       "      <td>570</td>\n",
       "      <td>30</td>\n",
       "      <td>Kebakaran</td>\n",
       "      <td>101.000000</td>\n",
       "    </tr>\n",
       "    <tr>\n",
       "      <th>7</th>\n",
       "      <td>580</td>\n",
       "      <td>32</td>\n",
       "      <td>Kebakaran</td>\n",
       "      <td>111.018017</td>\n",
       "    </tr>\n",
       "    <tr>\n",
       "      <th>8</th>\n",
       "      <td>600</td>\n",
       "      <td>31</td>\n",
       "      <td>Kebakaran</td>\n",
       "      <td>131.003817</td>\n",
       "    </tr>\n",
       "    <tr>\n",
       "      <th>3</th>\n",
       "      <td>300</td>\n",
       "      <td>29</td>\n",
       "      <td>Kondisi Aman</td>\n",
       "      <td>169.002959</td>\n",
       "    </tr>\n",
       "    <tr>\n",
       "      <th>2</th>\n",
       "      <td>290</td>\n",
       "      <td>28</td>\n",
       "      <td>Kondisi Aman</td>\n",
       "      <td>179.011173</td>\n",
       "    </tr>\n",
       "    <tr>\n",
       "      <th>1</th>\n",
       "      <td>236</td>\n",
       "      <td>27</td>\n",
       "      <td>Kondisi Aman</td>\n",
       "      <td>233.019313</td>\n",
       "    </tr>\n",
       "    <tr>\n",
       "      <th>0</th>\n",
       "      <td>234</td>\n",
       "      <td>28</td>\n",
       "      <td>Kondisi Aman</td>\n",
       "      <td>235.008510</td>\n",
       "    </tr>\n",
       "    <tr>\n",
       "      <th>9</th>\n",
       "      <td>800</td>\n",
       "      <td>30</td>\n",
       "      <td>Kebakaran</td>\n",
       "      <td>331.000000</td>\n",
       "    </tr>\n",
       "    <tr>\n",
       "      <th>10</th>\n",
       "      <td>900</td>\n",
       "      <td>35</td>\n",
       "      <td>Kebakaran</td>\n",
       "      <td>431.029001</td>\n",
       "    </tr>\n",
       "  </tbody>\n",
       "</table>\n",
       "</div>"
      ],
      "text/plain": [
       "    GasAp  Suhu              KR       jarak\n",
       "5     470    31  Berpotensi Api    1.414214\n",
       "4     450    30  Berpotensi Api   19.000000\n",
       "6     570    30       Kebakaran  101.000000\n",
       "7     580    32       Kebakaran  111.018017\n",
       "8     600    31       Kebakaran  131.003817\n",
       "3     300    29    Kondisi Aman  169.002959\n",
       "2     290    28    Kondisi Aman  179.011173\n",
       "1     236    27    Kondisi Aman  233.019313\n",
       "0     234    28    Kondisi Aman  235.008510\n",
       "9     800    30       Kebakaran  331.000000\n",
       "10    900    35       Kebakaran  431.029001"
      ]
     },
     "execution_count": 18,
     "metadata": {},
     "output_type": "execute_result"
    }
   ],
   "source": [
    "sensor_df['jarak'] = data_jarak\n",
    "sensor_df.sort_values(['jarak'])"
   ]
  },
  {
   "cell_type": "code",
   "execution_count": 19,
   "id": "d1f4fb3d",
   "metadata": {},
   "outputs": [
    {
     "name": "stdout",
     "output_type": "stream",
     "text": [
      "X_test:\n",
      "[[560  30]\n",
      " [550  27]\n",
      " [301  27]\n",
      " [290  28]]\n",
      "\n",
      "Y_test:\n",
      "[1 0 2 2]\n"
     ]
    }
   ],
   "source": [
    "#Evaluasi KNN Classification Model\n",
    "#Testing Set\n",
    "\n",
    "X_test = np.array([[560, 30],[550, 27], [301, 27], [290, 28]])\n",
    "Y_test = lb.transform(np.array(['Kebakaran', 'Berpotensi Api', 'Kondisi Aman', 'Kondisi Aman'])).flatten()\n",
    "\n",
    "print(f'X_test:\\n{X_test}\\n')\n",
    "print(f'Y_test:\\n{Y_test}')"
   ]
  },
  {
   "cell_type": "code",
   "execution_count": 20,
   "id": "d5dbf4db",
   "metadata": {},
   "outputs": [
    {
     "data": {
      "text/plain": [
       "array([1, 1, 2, 2])"
      ]
     },
     "execution_count": 20,
     "metadata": {},
     "output_type": "execute_result"
    }
   ],
   "source": [
    "#Prediksi Terhadap Testing Set\n",
    "Y_pred = model.predict(X_test)\n",
    "Y_pred"
   ]
  },
  {
   "cell_type": "code",
   "execution_count": 21,
   "id": "91d8c41a",
   "metadata": {},
   "outputs": [
    {
     "name": "stdout",
     "output_type": "stream",
     "text": [
      "Accuracy: 0.75\n"
     ]
    }
   ],
   "source": [
    "#Accuracy\n",
    "from sklearn.metrics import accuracy_score\n",
    "acc = accuracy_score(Y_test, Y_pred)\n",
    "print(f'Accuracy: {acc}')"
   ]
  },
  {
   "cell_type": "code",
   "execution_count": 22,
   "id": "bb353334",
   "metadata": {},
   "outputs": [
    {
     "name": "stdout",
     "output_type": "stream",
     "text": [
      "Precision (micro): 0.75\n"
     ]
    }
   ],
   "source": [
    "#Precision\n",
    "from sklearn.metrics import precision_score\n",
    "prec = precision_score(Y_test, Y_pred, average='micro')\n",
    "print(f'Precision (micro): {prec}')"
   ]
  },
  {
   "cell_type": "code",
   "execution_count": 45,
   "id": "d9354056",
   "metadata": {},
   "outputs": [
    {
     "name": "stdout",
     "output_type": "stream",
     "text": [
      "Recall (micro): 0.75\n"
     ]
    }
   ],
   "source": [
    "#Recall\n",
    "from sklearn.metrics import recall_score\n",
    "rec = recall_score(Y_test, Y_pred, average='micro')\n",
    "print(f'Recall (micro): {rec}')"
   ]
  },
  {
   "cell_type": "code",
   "execution_count": 23,
   "id": "a4a4b5ca",
   "metadata": {},
   "outputs": [
    {
     "name": "stdout",
     "output_type": "stream",
     "text": [
      "F1-score (micro): 0.75\n"
     ]
    }
   ],
   "source": [
    "#F1 Score\n",
    "from sklearn.metrics import f1_score\n",
    "f1 = f1_score(Y_test, Y_pred, average='micro')\n",
    "print(f'F1-score (micro): {f1}')"
   ]
  },
  {
   "cell_type": "code",
   "execution_count": 48,
   "id": "a9d59d49",
   "metadata": {},
   "outputs": [
    {
     "name": "stdout",
     "output_type": "stream",
     "text": [
      "classification Report:\n",
      "              precision    recall  f1-score   support\n",
      "\n",
      "           0       0.00      0.00      0.00         1\n",
      "           1       0.50      1.00      0.67         1\n",
      "           2       1.00      1.00      1.00         2\n",
      "\n",
      "    accuracy                           0.75         4\n",
      "   macro avg       0.50      0.67      0.56         4\n",
      "weighted avg       0.62      0.75      0.67         4\n",
      "\n"
     ]
    },
    {
     "name": "stderr",
     "output_type": "stream",
     "text": [
      "C:\\Users\\FIKRI HAIKAL\\anaconda3\\lib\\site-packages\\sklearn\\metrics\\_classification.py:1318: UndefinedMetricWarning: Precision and F-score are ill-defined and being set to 0.0 in labels with no predicted samples. Use `zero_division` parameter to control this behavior.\n",
      "  _warn_prf(average, modifier, msg_start, len(result))\n",
      "C:\\Users\\FIKRI HAIKAL\\anaconda3\\lib\\site-packages\\sklearn\\metrics\\_classification.py:1318: UndefinedMetricWarning: Precision and F-score are ill-defined and being set to 0.0 in labels with no predicted samples. Use `zero_division` parameter to control this behavior.\n",
      "  _warn_prf(average, modifier, msg_start, len(result))\n",
      "C:\\Users\\FIKRI HAIKAL\\anaconda3\\lib\\site-packages\\sklearn\\metrics\\_classification.py:1318: UndefinedMetricWarning: Precision and F-score are ill-defined and being set to 0.0 in labels with no predicted samples. Use `zero_division` parameter to control this behavior.\n",
      "  _warn_prf(average, modifier, msg_start, len(result))\n"
     ]
    }
   ],
   "source": [
    "#Classification Report\n",
    "from sklearn.metrics import classification_report\n",
    "cls_report = classification_report(Y_test, Y_pred)\n",
    "print(f'classification Report:\\n{cls_report}')"
   ]
  },
  {
   "cell_type": "code",
   "execution_count": 24,
   "id": "0e9afa09",
   "metadata": {},
   "outputs": [
    {
     "name": "stdout",
     "output_type": "stream",
     "text": [
      "MCC: 0.6708203932499369\n"
     ]
    }
   ],
   "source": [
    "#Matthew Correlation Coefficient (MCC)\n",
    "from sklearn.metrics import matthews_corrcoef\n",
    "mcc = matthews_corrcoef(Y_test, Y_pred)\n",
    "print(f'MCC: {mcc}')"
   ]
  },
  {
   "cell_type": "code",
   "execution_count": null,
   "id": "d51ed361",
   "metadata": {},
   "outputs": [],
   "source": []
  }
 ],
 "metadata": {
  "kernelspec": {
   "display_name": "Python 3 (ipykernel)",
   "language": "python",
   "name": "python3"
  },
  "language_info": {
   "codemirror_mode": {
    "name": "ipython",
    "version": 3
   },
   "file_extension": ".py",
   "mimetype": "text/x-python",
   "name": "python",
   "nbconvert_exporter": "python",
   "pygments_lexer": "ipython3",
   "version": "3.9.12"
  }
 },
 "nbformat": 4,
 "nbformat_minor": 5
}
